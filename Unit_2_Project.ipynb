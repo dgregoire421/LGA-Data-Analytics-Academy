{
  "nbformat": 4,
  "nbformat_minor": 0,
  "metadata": {
    "colab": {
      "provenance": []
    },
    "kernelspec": {
      "name": "python3",
      "display_name": "Python 3"
    },
    "language_info": {
      "name": "python"
    }
  },
  "cells": [
    {
      "cell_type": "code",
      "source": [
        "Game_Choices = [\"rock\", \"paper\", \"scissors\"]\n",
        "\n",
        "def Player_Choice(Player):\n",
        "  choice = \"\"\n",
        "  while choice not in Game_Choices:\n",
        "    print(Player +\":\" + \" pick rock,\", \"paper,\", \"or scissors.\")\n",
        "    choice = input().lower()\n",
        "  return choice\n",
        "\n",
        "def determine_winner(Player_1, Player_2):\n",
        "  if Player_1 == Player_2:\n",
        "    print(\"It's a tie!\")\n",
        "  elif (Player_1 == \"rock\" and Player_2 == \"scissors\" or Player_1 == \"paper\" and Player_2 == \"rock\" or Player_1 == \"scissors\" and Player_2 == \"paper\"):\n",
        "    print(Player_1.lower() + \" beats \" + Player_2.lower() + \". PLAYER 1 WINS! Congratulations!\")\n",
        "  else:\n",
        "    print(Player_2.lower() + \" beats \" + Player_1.lower() + \". PLAYER 2 WINS! Congratulations!\")\n",
        "\n",
        "def Play_Game():\n",
        "  while True:\n",
        "    Player_1 = Player_Choice(\"Player 1\")\n",
        "    Player_2 = Player_Choice(\"Player 2\")\n",
        "    print(\"Player 1 chose \" + Player_1.lower())\n",
        "    print(\"Player 2 chose \" + Player_2.lower())\n",
        "    determine_winner(Player_1, Player_2)\n",
        "    print(\"Do you want to play again? (Yes/No):\")\n",
        "    again = input().lower()\n",
        "    if again == \"no\":\n",
        "      print(\"Thank you for playing! Goodbye!\")\n",
        "      break\n",
        "    else:\n",
        "      print(\"Let's play.\")\n",
        "\n",
        "Play_Game()"
      ],
      "metadata": {
        "id": "dVDoWeJBrHEa",
        "colab": {
          "base_uri": "https://localhost:8080/"
        },
        "outputId": "3ae5e6fa-df27-4851-e12e-2dd0a740bc7d"
      },
      "execution_count": 45,
      "outputs": [
        {
          "output_type": "stream",
          "name": "stdout",
          "text": [
            "Player 1: pick rock, paper, or scissors.\n",
            "SCISSORS\n",
            "Player 2: pick rock, paper, or scissors.\n",
            "PAPER\n",
            "Player 1 chose scissors\n",
            "Player 2 chose paper\n",
            "scissors beats paper. PLAYER 1 WINS! Congratulations!\n",
            "Do you want to play again? (Yes/No):\n",
            "YES\n",
            "Let's play.\n",
            "Player 1: pick rock, paper, or scissors.\n",
            "ROCK\n",
            "Player 2: pick rock, paper, or scissors.\n",
            "PAPER\n",
            "Player 1 chose rock\n",
            "Player 2 chose paper\n",
            "paper beats rock. PLAYER 2 WINS! Congratulations!\n",
            "Do you want to play again? (Yes/No):\n",
            "NO\n",
            "Thank you for playing! Goodbye!\n"
          ]
        }
      ]
    }
  ]
}